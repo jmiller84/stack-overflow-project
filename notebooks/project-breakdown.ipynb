{
 "cells": [
  {
   "cell_type": "markdown",
   "metadata": {},
   "source": [
    "## Project Breakdown"
   ]
  },
  {
   "cell_type": "markdown",
   "metadata": {},
   "source": [
    "Stack Overflow is a question and answer website for programmers.\n",
    "\n",
    "Stack Overflow's revenue comes from providing companies the opportunity to run job postings on its site, as well as by providing space for advertisers who are interested in advertising to programmers.\n",
    "\n",
    "Build a dashboard that can be used to track metrics that measure the quality of the Questions & Answers user experience (UX).\n",
    "\n",
    "Measure the overall success of the Questions & Answers product using the user experience methodology called HEART.\n",
    "<br>\n",
    "<br>\n",
    "\n",
    "HEART stands for:\n",
    "- Happiness, \n",
    "- Engagement, \n",
    "- Adoption, \n",
    "- Retention,\n",
    "- Task Success, \n",
    "\n",
    "Heart describes a common approach for designing user-centered metrics that can be used to gauge the quality of a software product's UX.\n",
    "\n",
    "<br>\n",
    "\n",
    "### The Data\n",
    "\n",
    "You have access to a database containing a subset of tables from the Stack Overflow web application database:\n",
    "\n",
    "- user profiles\n",
    "- posts (questions and answers)\n",
    "- comments\n",
    "- tags\n",
    "- votes\n",
    "\n",
    "<br>\n",
    "\n"
   ]
  },
  {
   "cell_type": "markdown",
   "metadata": {},
   "source": [
    "<img src='../images/so_db.png' height=500>"
   ]
  },
  {
   "cell_type": "markdown",
   "metadata": {},
   "source": [
    "## The HEART metrics\n",
    "\n",
    "Happiness metrics\n",
    "- Net Promoter score (how likely are users to recommend a product)\n",
    "- Customer satisfaction rating (taken from customer surveys)\n",
    "- Number of 5 star reviews\n",
    "\n",
    "Engagement metrics\n",
    "- Average session length\n",
    "- Average session frequency\n",
    "- Number of conversations e.g. posts, comments, votes\n",
    "\n",
    "Adoption\n",
    "- Download rate\n",
    "- Registration rate\n",
    "- Feature adoption rate\n",
    "\n",
    "Retention\n",
    "- Churn rate (staying active in the app)\n",
    "- Subscription renewal rate\n",
    "\n",
    "Task Success\n",
    "- Search exit rate (Finding and viewing the content user seek quickly)\n",
    "- Crash rate (Number od reported bugs)\n",
    "<br>\n",
    "<br>"
   ]
  },
  {
   "cell_type": "markdown",
   "metadata": {},
   "source": [
    "## Relating the HEART metrics to the Data\n",
    "\n",
    "Comparing the dataset to the HEART metrics using the database schema\n",
    "<br>\n",
    "<br>\n",
    "\n",
    "### Metrics we have data for:\n",
    "\n",
    "**Engagement**\n",
    "\n",
    "We can track the number of conversations happening across the app using the following:\n",
    "- Posts per user (Posts - OwnerUserId)\n",
    "- Comments per user (Comments - UserId)\n",
    "- Votes per user (Votes - Userid)\n",
    "\n",
    "We do not have session data. To further understand this metric it would be useful to have session length and session frequency data.\n",
    "<br>\n",
    "\n",
    "**Adoption**\n",
    "\n",
    "We can track the registration rate using:\n",
    "- Users CreationDate\n",
    "\n",
    "We can track adoption rate using:\n",
    "- Percentage of users using the comments, votes features\n",
    "\n",
    "<br>\n",
    "\n",
    "### Metrics we do not have data for:\n",
    "\n",
    "**Happiness**\n",
    "We do not have data for these metrics, in order to track the Happiness metric in the future a customer satisfaction survey would provide this data.\n",
    "\n",
    "**Retention**\n",
    "- Churn rate (staying active in the app)\n",
    "- Subscription renewal rate\n",
    "\n",
    "**Task Success**\n",
    "- Search exit rate (Finding and viewing the content user seek quickly)\n",
    "- Crash rate (Number od reported bugs)"
   ]
  },
  {
   "cell_type": "markdown",
   "metadata": {},
   "source": [
    "## Conclusions \n",
    "\n",
    "Of the 5 HEART metrics we only have suffienct data to analyse 2 of them they are:\n",
    "- Engagement\n",
    "- Adoption\n",
    "\n",
    "\n",
    "Moving forward I will first focus my attention on the engagment metric as this is the one we have the most data for and then Adoption.\n",
    "\n",
    "I will provide suggestions for more data to collected in order for further anlysis to be done on the remaining metrics for which we are missing data."
   ]
  }
 ],
 "metadata": {
  "kernelspec": {
   "display_name": "stack-overflow-venv",
   "language": "python",
   "name": "python3"
  },
  "language_info": {
   "codemirror_mode": {
    "name": "ipython",
    "version": 3
   },
   "file_extension": ".py",
   "mimetype": "text/x-python",
   "name": "python",
   "nbconvert_exporter": "python",
   "pygments_lexer": "ipython3",
   "version": "3.11.4"
  }
 },
 "nbformat": 4,
 "nbformat_minor": 2
}
