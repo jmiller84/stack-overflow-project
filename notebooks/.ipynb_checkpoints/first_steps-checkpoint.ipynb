{
 "cells": [
  {
   "attachments": {},
   "cell_type": "markdown",
   "metadata": {},
   "source": [
    "# Installing and Running Voila"
   ]
  },
  {
   "attachments": {},
   "cell_type": "markdown",
   "metadata": {},
   "source": [
    "To install Voila for dashboarding with Jupyter notebooks and set up an example notebook, follow these instructions:\n",
    "\n",
    "1. Install Voila:\n",
    "\n",
    "    - Open a terminal or command prompt.\n",
    "    - Ensure you have an active Python environment (e.g., virtual environment).\n",
    "    - Run the following command to install Voila using pip:\n",
    "    - `pip install voila pandas jupyter` etc"
   ]
  },
  {
   "attachments": {},
   "cell_type": "markdown",
   "metadata": {},
   "source": [
    "2. Launch Voila:\n",
    "\n",
    "    - Open a terminal or command prompt.\n",
    "    - Navigate to the directory containing your Jupyter notebook.\n",
    "    - Run the following command to launch Voila and serve your notebook as a dashboard:\n",
    "    ` voila <notebook_name>.ipynb`\n",
    "    -  Replace <notebook_name>.ipynb with the actual name of your Jupyter notebook file."
   ]
  },
  {
   "attachments": {},
   "cell_type": "markdown",
   "metadata": {},
   "source": [
    "3. Access the dashboard:\n",
    "\n",
    "    - Once Voila is running, it will display a local web server address (e.g., http://localhost:8866/).\n",
    "    - Open a web browser and enter the provided address to access your Voila dashboard.\n",
    "    - You can share this URL with others to allow them to view the dashboard."
   ]
  },
  {
   "attachments": {},
   "cell_type": "markdown",
   "metadata": {},
   "source": [
    "# Getting Started"
   ]
  },
  {
   "cell_type": "code",
   "execution_count": null,
   "metadata": {},
   "outputs": [],
   "source": [
    "# Import libraries\n",
    "from dotenv import load_dotenv\n",
    "import os\n",
    "import psycopg2\n",
    "import pandas as pd\n",
    "import matplotlib.pyplot as plt\n",
    "import seaborn as sns\n",
    "import ipywidgets as widgets\n",
    "from IPython.display import display"
   ]
  },
  {
   "cell_type": "code",
   "execution_count": null,
   "metadata": {},
   "outputs": [],
   "source": [
    "\n",
    "# Load environment variables\n",
    "load_dotenv()\n",
    "db_user = os.getenv('DB_USER')\n",
    "db_password = os.getenv('DB_PASSWORD')\n",
    "db_host = os.getenv('DB_HOST')\n",
    "db_name = os.getenv('DB_NAME')"
   ]
  },
  {
   "cell_type": "code",
   "execution_count": null,
   "metadata": {},
   "outputs": [],
   "source": [
    "# Connect to the Stack Overflow database\n",
    "conn = psycopg2.connect(\n",
    "    host=db_host,\n",
    "    database=db_name,\n",
    "    user=db_user,\n",
    "    password=db_password\n",
    ")"
   ]
  },
  {
   "cell_type": "code",
   "execution_count": null,
   "metadata": {},
   "outputs": [],
   "source": [
    "\n",
    "\n",
    "# Define HEART metrics for Stack Overflow\n",
    "heart_metrics = {\n",
    "    'Happiness': 'Measure of user satisfaction and happiness with the Questions & Answers product.',\n",
    "    'Engagement': 'Measure of user interaction and activity on the platform.',\n",
    "    'Adoption': 'Measure of user acquisition and growth of Stack Overflow user base.',\n",
    "    'Retention': 'Measure of user retention and continued usage of the platform over time.',\n",
    "    'Task Success': 'Measure of user ability to accomplish their goals and tasks effectively on Stack Overflow.'\n",
    "}\n"
   ]
  },
  {
   "cell_type": "markdown",
   "metadata": {},
   "source": [
    "### Create a SQLalchemy Engine\n",
    "\n",
    "Use the following code to connect to the DB and transfer the results to `pandas` more easily for exploration."
   ]
  },
  {
   "cell_type": "code",
   "execution_count": null,
   "metadata": {},
   "outputs": [],
   "source": [
    "from sqlalchemy import create_engine\n",
    "\n",
    "\n",
    "# With the env variables loaded we can insert them into the engine connection string.\n",
    "engine = create_engine(f\"postgresql+psycopg2://{env['DB_USER']}:{env['DB_PASSWORD']}@{env['DB_HOST']}/{env['DB_NAME']}\")\n",
    "connection = engine.connect()"
   ]
  },
  {
   "cell_type": "markdown",
   "metadata": {},
   "source": [
    "Test the connection engine"
   ]
  },
  {
   "cell_type": "code",
   "execution_count": null,
   "metadata": {},
   "outputs": [],
   "source": [
    "query = \"SELECT * FROM users LIMIT 5\"\n",
    "df = pd.read_sql(query, connection)"
   ]
  },
  {
   "cell_type": "markdown",
   "metadata": {},
   "source": [
    "# Example Metric Analysis\n",
    "\n",
    "Let's take a look at one of the HEART metrics, Adoption. \n",
    "\n",
    "First of all, as an example, we are going to load in the data from the Users table and identify how many unique users signed up per month. I will give the following code using Pandas, we will then go onto using SQL equivalents that you may find more helpful, and indeed faster, in order to complete your project."
   ]
  },
  {
   "cell_type": "code",
   "execution_count": null,
   "metadata": {},
   "outputs": [],
   "source": [
    "query = \"SELECT * FROM users ORDER BY creation_date LIMIT 50000\"\n",
    "df = pd.read_sql(query, connection)"
   ]
  },
  {
   "cell_type": "code",
   "execution_count": null,
   "metadata": {},
   "outputs": [],
   "source": [
    "df['creation_date'] = pd.to_datetime(df['creation_date'])\n",
    "\n",
    "df['c_date'] = df['creation_date'].dt.date\n",
    "\n",
    "df['c_date']"
   ]
  },
  {
   "cell_type": "code",
   "execution_count": null,
   "metadata": {},
   "outputs": [],
   "source": [
    "pd.DatetimeIndex(df['c_date']).to_period(\"M\")\n",
    "\n",
    "df.head()"
   ]
  },
  {
   "cell_type": "markdown",
   "metadata": {},
   "source": [
    "per = df['creation_date'].dt.to_period(\"M\")\n",
    "\n",
    "y = per.value_counts()\n",
    "\n",
    "x = per.unique()\n",
    "\n",
    "x = x.astype(str)"
   ]
  },
  {
   "cell_type": "code",
   "execution_count": null,
   "metadata": {},
   "outputs": [],
   "source": [
    "fig = plt.figure(figsize = (12, 5))\n",
    " \n",
    "# creating the bar plot\n",
    "plt.bar(x, y, color ='maroon',\n",
    "        width = 0.5)\n",
    "\n",
    "plt.ylabel(\"Signups per Month\")\n",
    "plt.xlabel(\"Date\")\n",
    "plt.title(\"Stack Overflow Signups per Month (first 50k Users)\")\n",
    "plt.show()"
   ]
  },
  {
   "cell_type": "markdown",
   "metadata": {},
   "source": [
    "You should get a result similar to this Bar Chart:\n",
    "\n",
    "![bar_chart](./resources/50k_users_chart.png)"
   ]
  },
  {
   "cell_type": "markdown",
   "metadata": {},
   "source": [
    "## Example Metric SQL\n",
    "\n",
    "Let's look at the same metric again, but this time across the entire table, and with more SQL queries.\n",
    "\n",
    "We'll start off with grouping together Months, Years, and counting the entries for them so that we might see how Users have Adopted the service. We can begin by running SQL directly in our notebooks, then move onto loading that information into something more manageable."
   ]
  },
  {
   "cell_type": "code",
   "execution_count": null,
   "metadata": {},
   "outputs": [],
   "source": [
    "%load_ext sql"
   ]
  },
  {
   "cell_type": "code",
   "execution_count": null,
   "metadata": {},
   "outputs": [],
   "source": [
    "%sql postgresql+psycopg2://{env['DB_USER']}:{env['DB_PASSWORD']}@{env['DB_HOST']}/{env['DB_NAME']}"
   ]
  },
  {
   "cell_type": "code",
   "execution_count": null,
   "metadata": {
    "vscode": {
     "languageId": "sql"
    }
   },
   "outputs": [],
   "source": [
    "%%sql \n",
    "\n",
    "SELECT \n",
    "       EXTRACT(YEAR FROM creation_date) AS Year,\n",
    "       EXTRACT(MONTH FROM creation_date) AS Month,\n",
    "       COUNT(*) AS Count \n",
    "FROM users \n",
    "GROUP BY Year, Month\n",
    "ORDER BY Year, Month"
   ]
  },
  {
   "cell_type": "markdown",
   "metadata": {},
   "source": [
    "This query takes a long time and spits out a long list, so lets perform the query once and store the information in a DataFrame.\n",
    "\n",
    "We may also want to combine the Year and Month columns in order to better plot our findings later. Instead of doing that in Pandas, lets do it directly in the SQL query."
   ]
  },
  {
   "cell_type": "code",
   "execution_count": null,
   "metadata": {},
   "outputs": [],
   "source": [
    "# Load environment variables\n",
    "load_dotenv()\n",
    "db_user = os.getenv('DB_USER')\n",
    "db_password = os.getenv('DB_PASSWORD')\n",
    "db_host = os.getenv('DB_HOST')\n",
    "db_name = os.getenv('DB_NAME')\n",
    "\n",
    "db_params = {\n",
    "    'dbname': db_name,\n",
    "    'user': db_user,\n",
    "    'password': db_password,\n",
    "    'host': db_host,\n",
    "    'port': 5432\n",
    "}\n",
    "\n",
    "# Create a database connection\n",
    "conn = psycopg2.connect(**db_params)\n",
    "\n",
    "# Your SQL query\n",
    "sql_query = \"\"\"\n",
    "SELECT TO_CHAR(creation_date, 'YYYY-MM') AS YearMonth,\n",
    "       COUNT(*) AS Count \n",
    "FROM users \n",
    "GROUP BY YearMonth\n",
    "ORDER BY YearMonth;\n",
    "\"\"\"\n",
    "\n",
    "# Load the query result into a DataFrame\n",
    "df = pd.read_sql(sql_query, conn)\n",
    "\n",
    "# Close the database connection\n",
    "conn.close()\n",
    "\n",
    "# Now you have your query results in the 'df' DataFrame\n",
    "print(df)"
   ]
  },
  {
   "cell_type": "markdown",
   "metadata": {},
   "source": [
    "## Plotting\n",
    "\n",
    "Super! We have some results that we can use to interpret, let's plot them in order to make our findings more accessible to Yetunde at Stack Overflow."
   ]
  },
  {
   "cell_type": "code",
   "execution_count": null,
   "metadata": {},
   "outputs": [],
   "source": [
    "# Create a bar plot using Seaborn\n",
    "plt.figure(figsize=(12, 6))\n",
    "ax = sns.barplot(x=\"yearmonth\", y=\"count\", data=df, palette=\"viridis\")\n",
    "plt.title(\"Number of Users per Year-Month\")\n",
    "plt.xlabel(\"Year-Month\")\n",
    "plt.ylabel(\"Count\")\n",
    "plt.xticks(rotation=90, ha='right')  # Rotate x-axis labels for readability\n",
    "\n",
    "# Show the plot\n",
    "plt.tight_layout()\n",
    "plt.show()\n"
   ]
  },
  {
   "cell_type": "markdown",
   "metadata": {},
   "source": [
    "You may have noticed how busy and inaccessible our `x-axis` has become with all those year-month dates. You may want to set custome x-ticks. You can do all manner of customisations, I simply chose to include the unique years in a list and gaps for the months - but that might not be the best way."
   ]
  },
  {
   "cell_type": "code",
   "execution_count": null,
   "metadata": {},
   "outputs": [],
   "source": [
    "# Create a bar plot using Seaborn\n",
    "plt.figure(figsize=(12, 6))\n",
    "ax = sns.barplot(x=\"yearmonth\", y=\"count\", data=df, palette=\"viridis\")\n",
    "plt.title(\"Number of Users per Year-Month\")\n",
    "plt.xlabel(\"Year-Month\")\n",
    "plt.ylabel(\"Count\")\n",
    "plt.xticks(rotation=90, ha='right')  # Rotate x-axis labels for readability\n",
    "\n",
    "# Create a list with the desired pattern\n",
    "year_month_pattern = []\n",
    "\n",
    "for year in unique_years:\n",
    "    year_month_pattern.append(year)\n",
    "    year_month_pattern.extend([' '] * (df['yearmonth'].str.startswith(year).sum() - 1))\n",
    "\n",
    "ax.set_xticklabels(year_month_pattern)\n",
    "\n",
    "# Show the plot\n",
    "plt.tight_layout()\n",
    "plt.show()"
   ]
  },
  {
   "cell_type": "markdown",
   "metadata": {},
   "source": [
    "You ought to get a chart that looks something like this:\n",
    "\n",
    "![full_bar_chart](./resources/stack_overflow_adoption_chart.png)"
   ]
  },
  {
   "cell_type": "markdown",
   "metadata": {},
   "source": [
    "## Interactivity\n",
    "\n",
    "Let's make that chart a little more interactive. We can use Widgets to create a Year Selector, in order to look at how User Adoption changed throughout the years.\n",
    "\n",
    "We will need to add the `clear_output` function from the `IPython.display` library if we'd like the one chart to be updated."
   ]
  },
  {
   "cell_type": "code",
   "execution_count": null,
   "metadata": {},
   "outputs": [],
   "source": [
    "from IPython.display import display, clear_output\n",
    "\n",
    "def plot_interactive_chart(selected_year):\n",
    "    filtered_df = df[df['yearmonth'].str.startswith(str(selected_year))]\n",
    "    plt.figure(figsize=(12, 6))\n",
    "    ax = sns.barplot(x=\"yearmonth\", y=\"count\", data=filtered_df, palette=\"viridis\")\n",
    "    plt.title(\"Number of Users per Year-Month\")\n",
    "    plt.xlabel(\"Year-Month\")\n",
    "    plt.ylabel(\"Count\")\n",
    "    plt.xticks(rotation=45, ha='right')\n",
    "    plt.tight_layout()\n",
    "    plt.show()\n",
    "\n",
    "# Get unique years for dropdown options\n",
    "unique_years = df['yearmonth'].str.split('-').str[0].unique()\n",
    "\n",
    "# Create a dropdown for year selection\n",
    "year_dropdown = widgets.Dropdown(\n",
    "    options=unique_years,\n",
    "    description='Select Year:',\n",
    "    disabled=False,\n",
    ")\n",
    "\n",
    "# Display Year Dropdown selector\n",
    "display(year_dropdown)\n",
    "\n",
    "# Define the function to update the plot based on the selected year\n",
    "def update_plot(change):\n",
    "    clear_output(wait=True)  # Clear the previous chart only\n",
    "    display(year_dropdown)  # Redisplay the dropdown\n",
    "    plot_interactive_chart(change.new)\n",
    "\n",
    "# Connect the dropdown to the update function\n",
    "year_dropdown.observe(update_plot, names='value')\n",
    "\n",
    "# Display the dropdown and initial plot\n",
    "plot_interactive_chart(unique_years[0]) "
   ]
  },
  {
   "cell_type": "code",
   "execution_count": null,
   "metadata": {},
   "outputs": [],
   "source": [
    "# Display HEART metrics information\n",
    "print('HEART Metrics for Stack Overflow:\\n')\n",
    "for metric, description in heart_metrics.items():\n",
    "    print(f'{metric}: {description}')"
   ]
  },
  {
   "cell_type": "markdown",
   "metadata": {},
   "source": [
    "You can add more interactivity, even have some hover tooltip information with libraries like `plotly` - but for now that will suffice to make our results clear and accessible."
   ]
  },
  {
   "cell_type": "markdown",
   "metadata": {},
   "source": [
    "## Launching with Voila\n",
    "\n",
    "All that's left is to launch with Voila. You should have installed `voila` with `pip` earlier on, but if you haven't you can do that now.\n",
    "\n",
    "You will want to run the notebook file with the command `voila`, then the filename. You can add the `--debug` flag in order to see debugging information in your terminal.\n",
    "\n",
    "The command should look something like this:"
   ]
  },
  {
   "cell_type": "code",
   "execution_count": null,
   "metadata": {
    "vscode": {
     "languageId": "shellscript"
    }
   },
   "outputs": [],
   "source": [
    "voila heart.ipynb --debug"
   ]
  },
  {
   "cell_type": "markdown",
   "metadata": {},
   "source": [
    "## Process Template\n",
    "\n",
    "Head over to the [Process Template found here](./process_template.md) to go through these steps with a checklist for each HEART metric, and good luck!"
   ]
  }
 ],
 "metadata": {
  "kernelspec": {
   "display_name": "voila_venv",
   "language": "python",
   "name": "python3"
  },
  "language_info": {
   "name": "python",
   "version": "3.11.3"
  },
  "orig_nbformat": 4
 },
 "nbformat": 4,
 "nbformat_minor": 2
}
